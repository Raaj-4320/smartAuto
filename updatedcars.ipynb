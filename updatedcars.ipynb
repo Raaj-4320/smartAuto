{
 "cells": [
  {
   "cell_type": "code",
   "execution_count": 1,
   "id": "4927b027",
   "metadata": {},
   "outputs": [],
   "source": [
    "import pandas as pd"
   ]
  },
  {
   "cell_type": "code",
   "execution_count": 2,
   "id": "a95e08da",
   "metadata": {},
   "outputs": [],
   "source": [
    "df = pd.read_csv(\"cars.csv\")"
   ]
  },
  {
   "cell_type": "code",
   "execution_count": 5,
   "id": "13f13dac",
   "metadata": {},
   "outputs": [],
   "source": [
    "df = df[[\"manufacturer\",\"model\"]]"
   ]
  },
  {
   "cell_type": "code",
   "execution_count": 19,
   "id": "98d9e18b",
   "metadata": {},
   "outputs": [],
   "source": [
    "df = df.drop_duplicates(subset='model', keep='first')"
   ]
  },
  {
   "cell_type": "code",
   "execution_count": 20,
   "id": "345637af",
   "metadata": {},
   "outputs": [],
   "source": [
    "df.to_csv('cars.csv', index=False)"
   ]
  },
  {
   "cell_type": "code",
   "execution_count": null,
   "id": "9824d26c",
   "metadata": {},
   "outputs": [],
   "source": []
  }
 ],
 "metadata": {
  "kernelspec": {
   "display_name": "Python 3",
   "language": "python",
   "name": "python3"
  },
  "language_info": {
   "codemirror_mode": {
    "name": "ipython",
    "version": 3
   },
   "file_extension": ".py",
   "mimetype": "text/x-python",
   "name": "python",
   "nbconvert_exporter": "python",
   "pygments_lexer": "ipython3",
   "version": "3.12.4"
  }
 },
 "nbformat": 4,
 "nbformat_minor": 5
}
